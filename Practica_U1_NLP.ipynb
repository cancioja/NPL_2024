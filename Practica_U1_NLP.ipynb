{
  "nbformat": 4,
  "nbformat_minor": 0,
  "metadata": {
    "colab": {
      "provenance": [],
      "authorship_tag": "ABX9TyOkiHG2mShpDMxK1IXNJEus",
      "include_colab_link": true
    },
    "kernelspec": {
      "name": "python3",
      "display_name": "Python 3"
    },
    "language_info": {
      "name": "python"
    }
  },
  "cells": [
    {
      "cell_type": "markdown",
      "metadata": {
        "id": "view-in-github",
        "colab_type": "text"
      },
      "source": [
        "<a href=\"https://colab.research.google.com/github/cancioja/NPL_2024/blob/main/Practica_U1_NLP.ipynb\" target=\"_parent\"><img src=\"https://colab.research.google.com/assets/colab-badge.svg\" alt=\"Open In Colab\"/></a>"
      ]
    },
    {
      "cell_type": "markdown",
      "source": [
        "## **PRACTICA UNIDAD 1 - NLP - TUIA - 2024**"
      ],
      "metadata": {
        "id": "L-d_iKHvTMNN"
      }
    },
    {
      "cell_type": "markdown",
      "source": [
        "## *Ejercicio 2*"
      ],
      "metadata": {
        "id": "grYY541uDaKn"
      }
    },
    {
      "cell_type": "code",
      "source": [
        "import requests\n",
        "from bs4 import BeautifulSoup\n",
        "import pandas as pd\n",
        "import warnings\n",
        "warnings.filterwarnings('ignore')\n",
        "\n",
        "url = 'https://tableros.yvera.tur.ar/tablero_ODS/'\n",
        "\n",
        "response = requests.get(url, verify=False)\n",
        "soup = BeautifulSoup(response.text, 'html.parser')\n",
        "\n",
        "# 1) OBTENEMOS LOS INDICADORES ODS\n",
        "\n",
        "# El conjunto de todos los Indicadores ODS, figuran en una tag 'div' y en un 'id': 'shiny-tab-summary'\n",
        "div_tag = soup.find('div', {'id': 'shiny-tab-summary'})\n",
        "\n",
        "# Cada Indicador ODS figura dentro de una: ('div', {'class': 'inner'})\n",
        "inner_tag= div_tag.find_all('div', {'class': 'inner'})\n",
        "\n",
        "# Creamos una lista donde almacenar los indicadores\n",
        "ods_indicadores = []\n",
        "\n",
        "# YA EN CADA\n",
        "for indicador in inner_tag:\n",
        "    # Extraemos el nombre del indicador\n",
        "    valor = indicador.find_next('p').text\n",
        "\n",
        "    # Extraemos el valor del indicador\n",
        "    nombre = indicador.find('p').find_next('p').text.strip()\n",
        "\n",
        "    # Almacenamos los indicadores extraidos\n",
        "    ods_indicadores.append({\n",
        "        'Nombre': nombre,\n",
        "        'Valor': valor\n",
        "    })\n",
        "\n",
        "# Creamos un Dataframe Pandas\n",
        "df = pd.DataFrame(ods_indicadores)\n",
        "\n",
        "# Imprimimos el DataFrame\n",
        "print(\"RESUMEN INDICADORES DE OBJETIVOS DE DESARRLLO SUSTENTABLE\")\n",
        "print(df.to_string())\n",
        "print(\"--------------------------------------------------------------------------------------------------\")\n",
        "\n",
        "\n",
        "# 2) OBTENEMOS LA METODOLOGIA DE LOS INDICADORES ODS\n",
        "\n",
        "metodo= soup.select(\"#shiny-tab-metodologia\")[0].text.strip()\n",
        "print(\"TEXTO DE LA METODOLOGIA DE LOS INDICADORES DE OBJETIVOS DE DESARRLLO SUSTENTABLE\")\n",
        "print(\"--------------------------------------------------------------------------------------------------\")\n",
        "print(metodo)"
      ],
      "metadata": {
        "colab": {
          "base_uri": "https://localhost:8080/"
        },
        "id": "qO79xHUq6UeI",
        "outputId": "6d3147e1-75da-438e-9a37-733145a65e96"
      },
      "execution_count": 112,
      "outputs": [
        {
          "output_type": "stream",
          "name": "stdout",
          "text": [
            "RESUMEN INDICADORES DE OBJETIVOS DE DESARRLLO SUSTENTABLE\n",
            "                                                        Nombre   Valor\n",
            "0           Puestos de trabajo en industrias turísticas (2022)   1,2 M\n",
            "1  Tasa de informalidad del empleo asalariado turístico (2022)  44,43%\n",
            "2                  PIB turístico respecto del PIB total (2022)   1,68%\n",
            "3                                   Propensión a viajar (2022)   33,2%\n",
            "4                   Índice de Gini de viajes turísticos (2022)    34,1\n",
            "5           Índice de Gini de viajes turísticos de ocio (2022)    36,4\n",
            "6                    Índice de Gini del gasto turístico (2022)    44,1\n",
            "--------------------------------------------------------------------------------------------------\n",
            "TEXTO DE LA METODOLOGIA DE LOS INDICADORES DE OBJETIVOS DE DESARRLLO SUSTENTABLE\n",
            "--------------------------------------------------------------------------------------------------\n",
            "Definiciones y conceptos\n",
            "\n",
            "El tablero presenta un conjunto de indicadores que buscan reflejar el aporte del \n",
            "                                turismo a los Objetivos de Desarrollo Sostenible (ODS) para nuestro país. El Documento de Trabajo \n",
            "                                N°12: El turismo en los Objetivos de Desarrollo Sostenible aborda esta propuesta y describe en detalle las fuentas utilizadas y los indicadores elaborados\n",
            "Fuentes de información\n",
            "\n",
            "\n",
            "                          Los indicadores que reflejan el aporte del turismo a la economía en su conjunto en términos de actividad \n",
            "                                económica y empleo, y la tasa de informalidad de éste, provienen de la \n",
            "                          Cuenta Satélite de Turismo de Argentina (CST-A)\n",
            "                          . El resto de los indicadores, que buscan medir el acceso al turismo y su nivel de desigualdad,\n",
            "                                toman como fuente de los datos a la \n",
            "                          Encuesta de Viajes y Turismo de los Hogares (EVyTH)\n",
            "                          , representativa de los grandes aglomerados del país.\n",
            "                        \n",
            "Indicadores\n",
            "\n",
            "\n",
            "\n",
            "\n",
            " • Puestos de trabajo en industrias turísticas\n",
            "                              : Surge de la suma de los puestos de trabajo existentes en\n",
            "                                               los establecimientos pertenecientes a las ramas de actividad clasificadas como características del turismo. \n",
            "                                               Incluye puestos de trabajo asalariados (registrados y no registrados) y no asalariados.\n",
            "                            \n",
            "\n",
            " • Tasa de informalidad en el empleo asalariado turístico\n",
            "                              : Proporción de puestos de trabajo asalariados no registrados\n",
            "                                               con respecto al total de puestos de trabajo asalariados, en porcentaje, para ramas características del turismo.\n",
            "                            \n",
            "\n",
            " • PIB turístico respecto del PIB total\n",
            "                              : la parte del PIB de la economía total atribuible directamente\n",
            "                                        al consumo turístico realizado dentro de la Argentina, ya sea por visitantes residentes o no residentes, como porcentaje del PIB total.\n",
            "                            \n",
            "\n",
            " • Propensión a viajar \n",
            "                              : Proporción de la población que realizó al menos un viaje con pernocte durante el año de referencia.\n",
            "                            \n",
            "\n",
            " • Índice de Gini de viajes turísticos \n",
            "                              : Medida de desigualdad habitual, aplicada a la cantidad total de viajes turísticos \n",
            "                                               realizados según quintil de ingresos de los hogares. Valores más cercanos a 0 implican mayor igualdad, mientras que valores más próximos a 100 reflejan una mayor desigualdad en la distribución de los viajes turísticos según ingresos de la población.\n",
            "                            \n",
            "\n",
            " • Índice de Gini de viajes turísticos de ocio \n",
            "                              : El indicador, en este caso, tiene en cuenta únicamente los viajes con motivo de 'esparcimiento, ocio y recreación',\n",
            "                                               excluyéndose aquellos relacionados con la visita a familiares y amigos; trabajo, negocios, motivos profesionales; y otros.\n",
            "                            \n",
            "\n",
            " • Índice de Gini del gasto turístico \n",
            "                              : Medida de desigualdad aplicada al gasto que los hogares tuvieron en el viaje, según quintil \n",
            "                                               de ingresos de los hogares.\n"
          ]
        }
      ]
    },
    {
      "cell_type": "code",
      "source": [],
      "metadata": {
        "id": "ZAwOd834Tsx8"
      },
      "execution_count": null,
      "outputs": []
    },
    {
      "cell_type": "markdown",
      "source": [],
      "metadata": {
        "id": "K5CoMGW_TtNi"
      }
    },
    {
      "cell_type": "markdown",
      "source": [
        "## *Ejercicio 7*"
      ],
      "metadata": {
        "id": "G06zAkekTtXW"
      }
    },
    {
      "cell_type": "code",
      "source": [],
      "metadata": {
        "id": "ncme7v4ETvH3"
      },
      "execution_count": null,
      "outputs": []
    }
  ]
}